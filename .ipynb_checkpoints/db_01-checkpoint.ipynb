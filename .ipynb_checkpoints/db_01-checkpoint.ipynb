{
 "cells": [
  {
   "cell_type": "code",
   "execution_count": 163,
   "metadata": {},
   "outputs": [],
   "source": [
    "import sqlite3\n",
    "import pandas as pd\n",
    "from datetime import datetime\n",
    "import matplotlib.pyplot as plt"
   ]
  },
  {
   "cell_type": "code",
   "execution_count": 164,
   "metadata": {},
   "outputs": [],
   "source": [
    "# Create your connection.\n",
    "cnx = sqlite3.connect('db.sqlite3')\n",
    "\n",
    "pmts = pd.read_sql_query(\"SELECT * FROM gui_payments\", cnx)"
   ]
  },
  {
   "cell_type": "code",
   "execution_count": 165,
   "metadata": {},
   "outputs": [
    {
     "data": {
      "text/html": [
       "<div>\n",
       "<style scoped>\n",
       "    .dataframe tbody tr th:only-of-type {\n",
       "        vertical-align: middle;\n",
       "    }\n",
       "\n",
       "    .dataframe tbody tr th {\n",
       "        vertical-align: top;\n",
       "    }\n",
       "\n",
       "    .dataframe thead th {\n",
       "        text-align: right;\n",
       "    }\n",
       "</style>\n",
       "<table border=\"1\" class=\"dataframe\">\n",
       "  <thead>\n",
       "    <tr style=\"text-align: right;\">\n",
       "      <th></th>\n",
       "      <th>creation_date</th>\n",
       "      <th>payment_hash</th>\n",
       "      <th>value</th>\n",
       "      <th>fee</th>\n",
       "      <th>status</th>\n",
       "      <th>index</th>\n",
       "      <th>chan_out</th>\n",
       "      <th>chan_out_alias</th>\n",
       "      <th>keysend_preimage</th>\n",
       "      <th>cleaned</th>\n",
       "      <th>rebal_chan</th>\n",
       "      <th>message</th>\n",
       "    </tr>\n",
       "  </thead>\n",
       "  <tbody>\n",
       "    <tr>\n",
       "      <th>0</th>\n",
       "      <td>2022-07-03 17:28:38</td>\n",
       "      <td>dcd25adc5845a3f981ec04b583a864d9e75daf1441c7f7...</td>\n",
       "      <td>36092.0</td>\n",
       "      <td>2.166</td>\n",
       "      <td>2</td>\n",
       "      <td>1</td>\n",
       "      <td>817437417321398273</td>\n",
       "      <td>needleInTheHay</td>\n",
       "      <td>None</td>\n",
       "      <td>0</td>\n",
       "      <td>None</td>\n",
       "      <td>None</td>\n",
       "    </tr>\n",
       "    <tr>\n",
       "      <th>1</th>\n",
       "      <td>2022-07-05 22:44:52</td>\n",
       "      <td>03a9939bf42d62bb7c6a9a9e70696b0a715abe70db619b...</td>\n",
       "      <td>52980.0</td>\n",
       "      <td>0.000</td>\n",
       "      <td>3</td>\n",
       "      <td>2</td>\n",
       "      <td>None</td>\n",
       "      <td>None</td>\n",
       "      <td>None</td>\n",
       "      <td>0</td>\n",
       "      <td>None</td>\n",
       "      <td>None</td>\n",
       "    </tr>\n",
       "    <tr>\n",
       "      <th>2</th>\n",
       "      <td>2022-07-06 12:14:10</td>\n",
       "      <td>cc56a9145bf9c7a1d0ea8e36efbb215d0c25957b608b93...</td>\n",
       "      <td>100000.0</td>\n",
       "      <td>51.256</td>\n",
       "      <td>2</td>\n",
       "      <td>3</td>\n",
       "      <td>817437417321398273</td>\n",
       "      <td>needleInTheHay</td>\n",
       "      <td>None</td>\n",
       "      <td>0</td>\n",
       "      <td>817789261050544129</td>\n",
       "      <td>None</td>\n",
       "    </tr>\n",
       "    <tr>\n",
       "      <th>3</th>\n",
       "      <td>2022-07-06 12:16:45</td>\n",
       "      <td>c36b2a6ec6013b3b19235c2716450b36e876961dbf5f69...</td>\n",
       "      <td>1000000.0</td>\n",
       "      <td>666.355</td>\n",
       "      <td>2</td>\n",
       "      <td>4</td>\n",
       "      <td>817437417321398273</td>\n",
       "      <td>needleInTheHay</td>\n",
       "      <td>None</td>\n",
       "      <td>0</td>\n",
       "      <td>817789261050544129</td>\n",
       "      <td>None</td>\n",
       "    </tr>\n",
       "    <tr>\n",
       "      <th>4</th>\n",
       "      <td>2022-07-06 12:18:09</td>\n",
       "      <td>2165b81088e53f431ca9b01fd7b6ed518eaf7fa33d534d...</td>\n",
       "      <td>500000.0</td>\n",
       "      <td>247.068</td>\n",
       "      <td>2</td>\n",
       "      <td>5</td>\n",
       "      <td>817437417321398273</td>\n",
       "      <td>needleInTheHay</td>\n",
       "      <td>None</td>\n",
       "      <td>0</td>\n",
       "      <td>817789261050544129</td>\n",
       "      <td>None</td>\n",
       "    </tr>\n",
       "  </tbody>\n",
       "</table>\n",
       "</div>"
      ],
      "text/plain": [
       "         creation_date                                       payment_hash  \\\n",
       "0  2022-07-03 17:28:38  dcd25adc5845a3f981ec04b583a864d9e75daf1441c7f7...   \n",
       "1  2022-07-05 22:44:52  03a9939bf42d62bb7c6a9a9e70696b0a715abe70db619b...   \n",
       "2  2022-07-06 12:14:10  cc56a9145bf9c7a1d0ea8e36efbb215d0c25957b608b93...   \n",
       "3  2022-07-06 12:16:45  c36b2a6ec6013b3b19235c2716450b36e876961dbf5f69...   \n",
       "4  2022-07-06 12:18:09  2165b81088e53f431ca9b01fd7b6ed518eaf7fa33d534d...   \n",
       "\n",
       "       value      fee  status  index            chan_out  chan_out_alias  \\\n",
       "0    36092.0    2.166       2      1  817437417321398273  needleInTheHay   \n",
       "1    52980.0    0.000       3      2                None            None   \n",
       "2   100000.0   51.256       2      3  817437417321398273  needleInTheHay   \n",
       "3  1000000.0  666.355       2      4  817437417321398273  needleInTheHay   \n",
       "4   500000.0  247.068       2      5  817437417321398273  needleInTheHay   \n",
       "\n",
       "  keysend_preimage  cleaned          rebal_chan message  \n",
       "0             None        0                None    None  \n",
       "1             None        0                None    None  \n",
       "2             None        0  817789261050544129    None  \n",
       "3             None        0  817789261050544129    None  \n",
       "4             None        0  817789261050544129    None  "
      ]
     },
     "execution_count": 165,
     "metadata": {},
     "output_type": "execute_result"
    }
   ],
   "source": [
    "pmts.head()"
   ]
  },
  {
   "cell_type": "code",
   "execution_count": 166,
   "metadata": {},
   "outputs": [],
   "source": [
    "pmts['creation_date'] = pd.to_datetime(pmts['creation_date'])"
   ]
  },
  {
   "cell_type": "code",
   "execution_count": 167,
   "metadata": {},
   "outputs": [],
   "source": [
    "pmts['count'] = 1"
   ]
  },
  {
   "cell_type": "code",
   "execution_count": 168,
   "metadata": {},
   "outputs": [],
   "source": [
    "pmts = pmts.groupby(pd.Grouper(key='creation_date', axis=0, \n",
    "                      freq='W')).sum()\n"
   ]
  },
  {
   "cell_type": "code",
   "execution_count": 169,
   "metadata": {},
   "outputs": [
    {
     "data": {
      "text/html": [
       "<div>\n",
       "<style scoped>\n",
       "    .dataframe tbody tr th:only-of-type {\n",
       "        vertical-align: middle;\n",
       "    }\n",
       "\n",
       "    .dataframe tbody tr th {\n",
       "        vertical-align: top;\n",
       "    }\n",
       "\n",
       "    .dataframe thead th {\n",
       "        text-align: right;\n",
       "    }\n",
       "</style>\n",
       "<table border=\"1\" class=\"dataframe\">\n",
       "  <thead>\n",
       "    <tr style=\"text-align: right;\">\n",
       "      <th></th>\n",
       "      <th>value</th>\n",
       "      <th>fee</th>\n",
       "      <th>status</th>\n",
       "      <th>index</th>\n",
       "      <th>cleaned</th>\n",
       "      <th>count</th>\n",
       "    </tr>\n",
       "    <tr>\n",
       "      <th>creation_date</th>\n",
       "      <th></th>\n",
       "      <th></th>\n",
       "      <th></th>\n",
       "      <th></th>\n",
       "      <th></th>\n",
       "      <th></th>\n",
       "    </tr>\n",
       "  </thead>\n",
       "  <tbody>\n",
       "    <tr>\n",
       "      <th>2022-07-03</th>\n",
       "      <td>36092.0</td>\n",
       "      <td>2.166</td>\n",
       "      <td>2</td>\n",
       "      <td>1</td>\n",
       "      <td>0</td>\n",
       "      <td>1</td>\n",
       "    </tr>\n",
       "    <tr>\n",
       "      <th>2022-07-10</th>\n",
       "      <td>28688366.0</td>\n",
       "      <td>8617.906</td>\n",
       "      <td>285</td>\n",
       "      <td>36800</td>\n",
       "      <td>0</td>\n",
       "      <td>117</td>\n",
       "    </tr>\n",
       "    <tr>\n",
       "      <th>2022-07-17</th>\n",
       "      <td>39650000.0</td>\n",
       "      <td>13995.810</td>\n",
       "      <td>544</td>\n",
       "      <td>372966</td>\n",
       "      <td>0</td>\n",
       "      <td>252</td>\n",
       "    </tr>\n",
       "    <tr>\n",
       "      <th>2022-07-24</th>\n",
       "      <td>33650000.0</td>\n",
       "      <td>12123.578</td>\n",
       "      <td>438</td>\n",
       "      <td>464886</td>\n",
       "      <td>0</td>\n",
       "      <td>209</td>\n",
       "    </tr>\n",
       "    <tr>\n",
       "      <th>2022-07-31</th>\n",
       "      <td>9100000.0</td>\n",
       "      <td>2616.433</td>\n",
       "      <td>96</td>\n",
       "      <td>117244</td>\n",
       "      <td>0</td>\n",
       "      <td>46</td>\n",
       "    </tr>\n",
       "  </tbody>\n",
       "</table>\n",
       "</div>"
      ],
      "text/plain": [
       "                    value        fee  status   index  cleaned  count\n",
       "creation_date                                                       \n",
       "2022-07-03        36092.0      2.166       2       1        0      1\n",
       "2022-07-10     28688366.0   8617.906     285   36800        0    117\n",
       "2022-07-17     39650000.0  13995.810     544  372966        0    252\n",
       "2022-07-24     33650000.0  12123.578     438  464886        0    209\n",
       "2022-07-31      9100000.0   2616.433      96  117244        0     46"
      ]
     },
     "execution_count": 169,
     "metadata": {},
     "output_type": "execute_result"
    }
   ],
   "source": [
    "pmts.head()"
   ]
  },
  {
   "cell_type": "code",
   "execution_count": 170,
   "metadata": {},
   "outputs": [],
   "source": [
    "var = 'count'"
   ]
  },
  {
   "cell_type": "code",
   "execution_count": 171,
   "metadata": {
    "scrolled": false
   },
   "outputs": [
    {
     "data": {
      "image/png": "[encoded data removed]",
      "text/plain": [
       "<Figure size 1800x1080 with 1 Axes>"
      ]
     },
     "metadata": {
      "needs_background": "dark"
     },
     "output_type": "display_data"
    }
   ],
   "source": [
    "labels = pmts.index\n",
    "value = pmts[var]\n",
    "\n",
    "fig, ax = plt.subplots(figsize = (25, 15))\n",
    "\n",
    "ax.bar(labels, value, label = var, color=['#80D1D9'])\n",
    "plt.xticks(rotation=45)\n",
    "# plt.legend()\n",
    "ax.set_title(f'{var} - BTC', fontsize=20, color='white')\n",
    "\n",
    "plt.yticks(fontsize=20, color='white')\n",
    "plt.xticks(fontsize=20, color='white')\n",
    "\n",
    "plt.show()"
   ]
  },
  {
   "cell_type": "code",
   "execution_count": 172,
   "metadata": {},
   "outputs": [],
   "source": [
    "var = 'value'"
   ]
  },
  {
   "cell_type": "code",
   "execution_count": 173,
   "metadata": {},
   "outputs": [
    {
     "data": {
      "image/png": "[encoded data removed]",
      "text/plain": [
       "<Figure size 1800x1080 with 1 Axes>"
      ]
     },
     "metadata": {
      "needs_background": "dark"
     },
     "output_type": "display_data"
    }
   ],
   "source": [
    "labels = pmts.index\n",
    "value = pmts[var]\n",
    "\n",
    "fig, ax = plt.subplots(figsize = (25, 15))\n",
    "\n",
    "ax.bar(labels, value, label = var, color=['#80D1D9'])\n",
    "plt.xticks(rotation=45)\n",
    "# plt.legend()\n",
    "ax.set_title(f'{var} - BTC', fontsize=20, color='white')\n",
    "\n",
    "plt.yticks(fontsize=20, color='white')\n",
    "plt.xticks(fontsize=20, color='white')\n",
    "\n",
    "plt.show()"
   ]
  }
 ],
 "metadata": {
  "kernelspec": {
   "display_name": "Python 3",
   "language": "python",
   "name": "python3"
  },
  "language_info": {
   "codemirror_mode": {
    "name": "ipython",
    "version": 3
   },
   "file_extension": ".py",
   "mimetype": "text/x-python",
   "name": "python",
   "nbconvert_exporter": "python",
   "pygments_lexer": "ipython3",
   "version": "3.7.7"
  },
  "varInspector": {
   "cols": {
    "lenName": 16,
    "lenType": 16,
    "lenVar": 40
   },
   "kernels_config": {
    "python": {
     "delete_cmd_postfix": "",
     "delete_cmd_prefix": "del ",
     "library": "var_list.py",
     "varRefreshCmd": "print(var_dic_list())"
    },
    "r": {
     "delete_cmd_postfix": ") ",
     "delete_cmd_prefix": "rm(",
     "library": "var_list.r",
     "varRefreshCmd": "cat(var_dic_list()) "
    }
   },
   "types_to_exclude": [
    "module",
    "function",
    "builtin_function_or_method",
    "instance",
    "_Feature"
   ],
   "window_display": false
  }
 },
 "nbformat": 4,
 "nbformat_minor": 4
}
