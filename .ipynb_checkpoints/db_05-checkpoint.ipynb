{
 "cells": [
  {
   "cell_type": "code",
   "execution_count": 473,
   "metadata": {},
   "outputs": [],
   "source": [
    "import sqlite3\n",
    "import pandas as pd\n",
    "from datetime import datetime\n",
    "import matplotlib.pyplot as plt"
   ]
  },
  {
   "cell_type": "code",
   "execution_count": 474,
   "metadata": {},
   "outputs": [],
   "source": [
    "# Create your connection.\n",
    "cnx = sqlite3.connect('db.sqlite3')\n",
    "\n",
    "df = pd.read_sql_query(\"SELECT * FROM gui_forwards\", cnx)\n",
    "\n",
    "df['forward_date'] = pd.to_datetime(df['forward_date'])\n",
    "df = df.set_index('forward_date')"
   ]
  },
  {
   "cell_type": "code",
   "execution_count": 475,
   "metadata": {
    "scrolled": true
   },
   "outputs": [
    {
     "data": {
      "text/html": [
       "<div>\n",
       "<style scoped>\n",
       "    .dataframe tbody tr th:only-of-type {\n",
       "        vertical-align: middle;\n",
       "    }\n",
       "\n",
       "    .dataframe tbody tr th {\n",
       "        vertical-align: top;\n",
       "    }\n",
       "\n",
       "    .dataframe thead th {\n",
       "        text-align: right;\n",
       "    }\n",
       "</style>\n",
       "<table border=\"1\" class=\"dataframe\">\n",
       "  <thead>\n",
       "    <tr style=\"text-align: right;\">\n",
       "      <th></th>\n",
       "      <th>id</th>\n",
       "      <th>chan_id_in</th>\n",
       "      <th>chan_in_alias</th>\n",
       "      <th>chan_out_alias</th>\n",
       "      <th>amt_in_msat</th>\n",
       "      <th>amt_out_msat</th>\n",
       "      <th>fee</th>\n",
       "      <th>chan_id_out</th>\n",
       "    </tr>\n",
       "    <tr>\n",
       "      <th>forward_date</th>\n",
       "      <th></th>\n",
       "      <th></th>\n",
       "      <th></th>\n",
       "      <th></th>\n",
       "      <th></th>\n",
       "      <th></th>\n",
       "      <th></th>\n",
       "      <th></th>\n",
       "    </tr>\n",
       "  </thead>\n",
       "  <tbody>\n",
       "    <tr>\n",
       "      <th>2022-07-07 23:53:21</th>\n",
       "      <td>1</td>\n",
       "      <td>817901411243655168</td>\n",
       "      <td>MUISCA</td>\n",
       "      <td>ZerofeeCLN</td>\n",
       "      <td>72001792</td>\n",
       "      <td>72001720</td>\n",
       "      <td>0.072</td>\n",
       "      <td>817904709708283904</td>\n",
       "    </tr>\n",
       "    <tr>\n",
       "      <th>2022-07-07 23:53:36</th>\n",
       "      <td>2</td>\n",
       "      <td>817901411243655168</td>\n",
       "      <td>MUISCA</td>\n",
       "      <td>ZerofeeCLN</td>\n",
       "      <td>72001792</td>\n",
       "      <td>72001720</td>\n",
       "      <td>0.072</td>\n",
       "      <td>817904709708283904</td>\n",
       "    </tr>\n",
       "    <tr>\n",
       "      <th>2022-07-07 23:53:51</th>\n",
       "      <td>3</td>\n",
       "      <td>817901411243655168</td>\n",
       "      <td>MUISCA</td>\n",
       "      <td>ZerofeeCLN</td>\n",
       "      <td>72001792</td>\n",
       "      <td>72001720</td>\n",
       "      <td>0.072</td>\n",
       "      <td>817904709708283904</td>\n",
       "    </tr>\n",
       "    <tr>\n",
       "      <th>2022-07-07 23:54:05</th>\n",
       "      <td>4</td>\n",
       "      <td>817901411243655168</td>\n",
       "      <td>MUISCA</td>\n",
       "      <td>ZerofeeCLN</td>\n",
       "      <td>72001792</td>\n",
       "      <td>72001720</td>\n",
       "      <td>0.072</td>\n",
       "      <td>817904709708283904</td>\n",
       "    </tr>\n",
       "    <tr>\n",
       "      <th>2022-07-08 16:31:36</th>\n",
       "      <td>5</td>\n",
       "      <td>817425322679402496</td>\n",
       "      <td>LightningNetwork.Plus</td>\n",
       "      <td>WalletOfSatoshi.com</td>\n",
       "      <td>150016500</td>\n",
       "      <td>150001500</td>\n",
       "      <td>15.000</td>\n",
       "      <td>818212573014982656</td>\n",
       "    </tr>\n",
       "  </tbody>\n",
       "</table>\n",
       "</div>"
      ],
      "text/plain": [
       "                     id          chan_id_in          chan_in_alias  \\\n",
       "forward_date                                                         \n",
       "2022-07-07 23:53:21   1  817901411243655168                 MUISCA   \n",
       "2022-07-07 23:53:36   2  817901411243655168                 MUISCA   \n",
       "2022-07-07 23:53:51   3  817901411243655168                 MUISCA   \n",
       "2022-07-07 23:54:05   4  817901411243655168                 MUISCA   \n",
       "2022-07-08 16:31:36   5  817425322679402496  LightningNetwork.Plus   \n",
       "\n",
       "                          chan_out_alias  amt_in_msat  amt_out_msat     fee  \\\n",
       "forward_date                                                                  \n",
       "2022-07-07 23:53:21           ZerofeeCLN     72001792      72001720   0.072   \n",
       "2022-07-07 23:53:36           ZerofeeCLN     72001792      72001720   0.072   \n",
       "2022-07-07 23:53:51           ZerofeeCLN     72001792      72001720   0.072   \n",
       "2022-07-07 23:54:05           ZerofeeCLN     72001792      72001720   0.072   \n",
       "2022-07-08 16:31:36  WalletOfSatoshi.com    150016500     150001500  15.000   \n",
       "\n",
       "                            chan_id_out  \n",
       "forward_date                             \n",
       "2022-07-07 23:53:21  817904709708283904  \n",
       "2022-07-07 23:53:36  817904709708283904  \n",
       "2022-07-07 23:53:51  817904709708283904  \n",
       "2022-07-07 23:54:05  817904709708283904  \n",
       "2022-07-08 16:31:36  818212573014982656  "
      ]
     },
     "execution_count": 475,
     "metadata": {},
     "output_type": "execute_result"
    }
   ],
   "source": [
    "df.head()"
   ]
  },
  {
   "cell_type": "code",
   "execution_count": 476,
   "metadata": {
    "scrolled": true
   },
   "outputs": [
    {
     "data": {
      "text/html": [
       "<div>\n",
       "<style scoped>\n",
       "    .dataframe tbody tr th:only-of-type {\n",
       "        vertical-align: middle;\n",
       "    }\n",
       "\n",
       "    .dataframe tbody tr th {\n",
       "        vertical-align: top;\n",
       "    }\n",
       "\n",
       "    .dataframe thead th {\n",
       "        text-align: right;\n",
       "    }\n",
       "</style>\n",
       "<table border=\"1\" class=\"dataframe\">\n",
       "  <thead>\n",
       "    <tr style=\"text-align: right;\">\n",
       "      <th></th>\n",
       "      <th>id</th>\n",
       "      <th>amt_in_msat</th>\n",
       "      <th>amt_out_msat</th>\n",
       "      <th>fee</th>\n",
       "    </tr>\n",
       "    <tr>\n",
       "      <th>forward_date</th>\n",
       "      <th></th>\n",
       "      <th></th>\n",
       "      <th></th>\n",
       "      <th></th>\n",
       "    </tr>\n",
       "  </thead>\n",
       "  <tbody>\n",
       "    <tr>\n",
       "      <th>2022-07-10</th>\n",
       "      <td>780</td>\n",
       "      <td>4456371116</td>\n",
       "      <td>4455779901</td>\n",
       "      <td>591.215</td>\n",
       "    </tr>\n",
       "    <tr>\n",
       "      <th>2022-07-17</th>\n",
       "      <td>8673</td>\n",
       "      <td>18715881102</td>\n",
       "      <td>18712397896</td>\n",
       "      <td>3483.206</td>\n",
       "    </tr>\n",
       "    <tr>\n",
       "      <th>2022-07-24</th>\n",
       "      <td>20928</td>\n",
       "      <td>13523268687</td>\n",
       "      <td>13520433629</td>\n",
       "      <td>2835.058</td>\n",
       "    </tr>\n",
       "    <tr>\n",
       "      <th>2022-07-31</th>\n",
       "      <td>2259</td>\n",
       "      <td>5468491861</td>\n",
       "      <td>5466842633</td>\n",
       "      <td>1649.228</td>\n",
       "    </tr>\n",
       "    <tr>\n",
       "      <th>2022-08-07</th>\n",
       "      <td>513</td>\n",
       "      <td>295762408</td>\n",
       "      <td>295741682</td>\n",
       "      <td>20.726</td>\n",
       "    </tr>\n",
       "    <tr>\n",
       "      <th>2022-08-14</th>\n",
       "      <td>9042</td>\n",
       "      <td>9585462002</td>\n",
       "      <td>9584206235</td>\n",
       "      <td>1255.767</td>\n",
       "    </tr>\n",
       "    <tr>\n",
       "      <th>2022-08-21</th>\n",
       "      <td>20640</td>\n",
       "      <td>6529670373</td>\n",
       "      <td>6528588928</td>\n",
       "      <td>1081.445</td>\n",
       "    </tr>\n",
       "    <tr>\n",
       "      <th>2022-08-28</th>\n",
       "      <td>4326</td>\n",
       "      <td>2758596619</td>\n",
       "      <td>2758355915</td>\n",
       "      <td>240.704</td>\n",
       "    </tr>\n",
       "    <tr>\n",
       "      <th>2022-09-04</th>\n",
       "      <td>9867</td>\n",
       "      <td>4086537692</td>\n",
       "      <td>4085451765</td>\n",
       "      <td>1085.927</td>\n",
       "    </tr>\n",
       "    <tr>\n",
       "      <th>2022-09-11</th>\n",
       "      <td>4378</td>\n",
       "      <td>3174490206</td>\n",
       "      <td>3173948050</td>\n",
       "      <td>542.156</td>\n",
       "    </tr>\n",
       "    <tr>\n",
       "      <th>2022-09-18</th>\n",
       "      <td>42845</td>\n",
       "      <td>6253695907</td>\n",
       "      <td>6252596774</td>\n",
       "      <td>1099.133</td>\n",
       "    </tr>\n",
       "    <tr>\n",
       "      <th>2022-09-25</th>\n",
       "      <td>65169</td>\n",
       "      <td>3480020811</td>\n",
       "      <td>3479653991</td>\n",
       "      <td>366.820</td>\n",
       "    </tr>\n",
       "    <tr>\n",
       "      <th>2022-10-02</th>\n",
       "      <td>41440</td>\n",
       "      <td>8391721110</td>\n",
       "      <td>8390087768</td>\n",
       "      <td>1633.342</td>\n",
       "    </tr>\n",
       "    <tr>\n",
       "      <th>2022-10-09</th>\n",
       "      <td>65205</td>\n",
       "      <td>3194871337</td>\n",
       "      <td>3194223305</td>\n",
       "      <td>648.032</td>\n",
       "    </tr>\n",
       "    <tr>\n",
       "      <th>2022-10-16</th>\n",
       "      <td>69875</td>\n",
       "      <td>5428811354</td>\n",
       "      <td>5428216420</td>\n",
       "      <td>594.934</td>\n",
       "    </tr>\n",
       "    <tr>\n",
       "      <th>2022-10-23</th>\n",
       "      <td>47655</td>\n",
       "      <td>389009805</td>\n",
       "      <td>388945322</td>\n",
       "      <td>64.483</td>\n",
       "    </tr>\n",
       "    <tr>\n",
       "      <th>2022-10-30</th>\n",
       "      <td>24921</td>\n",
       "      <td>2885617630</td>\n",
       "      <td>2885396589</td>\n",
       "      <td>221.041</td>\n",
       "    </tr>\n",
       "    <tr>\n",
       "      <th>2022-11-06</th>\n",
       "      <td>11310</td>\n",
       "      <td>2404065817</td>\n",
       "      <td>2403996041</td>\n",
       "      <td>69.776</td>\n",
       "    </tr>\n",
       "  </tbody>\n",
       "</table>\n",
       "</div>"
      ],
      "text/plain": [
       "                 id  amt_in_msat  amt_out_msat       fee\n",
       "forward_date                                            \n",
       "2022-07-10      780   4456371116    4455779901   591.215\n",
       "2022-07-17     8673  18715881102   18712397896  3483.206\n",
       "2022-07-24    20928  13523268687   13520433629  2835.058\n",
       "2022-07-31     2259   5468491861    5466842633  1649.228\n",
       "2022-08-07      513    295762408     295741682    20.726\n",
       "2022-08-14     9042   9585462002    9584206235  1255.767\n",
       "2022-08-21    20640   6529670373    6528588928  1081.445\n",
       "2022-08-28     4326   2758596619    2758355915   240.704\n",
       "2022-09-04     9867   4086537692    4085451765  1085.927\n",
       "2022-09-11     4378   3174490206    3173948050   542.156\n",
       "2022-09-18    42845   6253695907    6252596774  1099.133\n",
       "2022-09-25    65169   3480020811    3479653991   366.820\n",
       "2022-10-02    41440   8391721110    8390087768  1633.342\n",
       "2022-10-09    65205   3194871337    3194223305   648.032\n",
       "2022-10-16    69875   5428811354    5428216420   594.934\n",
       "2022-10-23    47655    389009805     388945322    64.483\n",
       "2022-10-30    24921   2885617630    2885396589   221.041\n",
       "2022-11-06    11310   2404065817    2403996041    69.776"
      ]
     },
     "execution_count": 476,
     "metadata": {},
     "output_type": "execute_result"
    }
   ],
   "source": [
    "df.groupby(pd.Grouper(freq=freq)).sum()"
   ]
  },
  {
   "cell_type": "code",
   "execution_count": null,
   "metadata": {},
   "outputs": [],
   "source": []
  },
  {
   "cell_type": "code",
   "execution_count": 477,
   "metadata": {},
   "outputs": [],
   "source": [
    "freq = 'W'\n",
    "value_total = df.groupby(pd.Grouper(freq=freq)).sum()['amt_out_msat']\n",
    "fee_total = df.groupby(pd.Grouper(freq=freq)).sum()['fee']"
   ]
  },
  {
   "cell_type": "code",
   "execution_count": 478,
   "metadata": {},
   "outputs": [],
   "source": [
    "# convert from msat to bitcoin\n",
    "value_total = (value_total)/100000000000"
   ]
  },
  {
   "cell_type": "code",
   "execution_count": 479,
   "metadata": {},
   "outputs": [
    {
     "data": {
      "text/plain": [
       "(18,)"
      ]
     },
     "execution_count": 479,
     "metadata": {},
     "output_type": "execute_result"
    }
   ],
   "source": [
    "value_total.shape"
   ]
  },
  {
   "cell_type": "code",
   "execution_count": 480,
   "metadata": {},
   "outputs": [
    {
     "data": {
      "text/plain": [
       "(18,)"
      ]
     },
     "execution_count": 480,
     "metadata": {},
     "output_type": "execute_result"
    }
   ],
   "source": [
    "fee_total.shape"
   ]
  },
  {
   "cell_type": "code",
   "execution_count": 481,
   "metadata": {
    "scrolled": false
   },
   "outputs": [
    {
     "ename": "AttributeError",
     "evalue": "'BarContainer' object has no attribute 'set_title'",
     "output_type": "error",
     "traceback": [
      "\u001b[1;31m---------------------------------------------------------------------------\u001b[0m",
      "\u001b[1;31mAttributeError\u001b[0m                            Traceback (most recent call last)",
      "\u001b[1;32m<ipython-input-481-4c041ac24991>\u001b[0m in \u001b[0;36m<module>\u001b[1;34m\u001b[0m\n\u001b[0;32m      5\u001b[0m \u001b[0mfig\u001b[0m\u001b[1;33m,\u001b[0m \u001b[0max\u001b[0m \u001b[1;33m=\u001b[0m  \u001b[0mplt\u001b[0m\u001b[1;33m.\u001b[0m\u001b[0msubplots\u001b[0m\u001b[1;33m(\u001b[0m\u001b[1;36m2\u001b[0m\u001b[1;33m,\u001b[0m\u001b[1;36m1\u001b[0m\u001b[1;33m,\u001b[0m\u001b[0mfigsize\u001b[0m \u001b[1;33m=\u001b[0m \u001b[1;33m(\u001b[0m\u001b[1;36m25\u001b[0m\u001b[1;33m,\u001b[0m \u001b[1;36m15\u001b[0m\u001b[1;33m)\u001b[0m\u001b[1;33m)\u001b[0m\u001b[1;33m\u001b[0m\u001b[1;33m\u001b[0m\u001b[0m\n\u001b[0;32m      6\u001b[0m \u001b[1;33m\u001b[0m\u001b[0m\n\u001b[1;32m----> 7\u001b[1;33m \u001b[0max\u001b[0m\u001b[1;33m[\u001b[0m\u001b[1;36m0\u001b[0m\u001b[1;33m]\u001b[0m\u001b[1;33m.\u001b[0m\u001b[0mbar\u001b[0m\u001b[1;33m(\u001b[0m\u001b[0mlabels\u001b[0m\u001b[1;33m,\u001b[0m \u001b[0mvalue\u001b[0m\u001b[1;33m,\u001b[0m \u001b[0mlabel\u001b[0m \u001b[1;33m=\u001b[0m \u001b[1;34m'Value Routed'\u001b[0m\u001b[1;33m,\u001b[0m \u001b[0mcolor\u001b[0m\u001b[1;33m=\u001b[0m\u001b[1;33m[\u001b[0m\u001b[1;34m'#80D1D9'\u001b[0m\u001b[1;33m]\u001b[0m\u001b[1;33m)\u001b[0m\u001b[0;31m\\\u001b[0m\u001b[1;33m\u001b[0m\u001b[1;33m\u001b[0m\u001b[0m\n\u001b[0m\u001b[0;32m      8\u001b[0m     \u001b[1;33m.\u001b[0m\u001b[0mset_title\u001b[0m\u001b[1;33m(\u001b[0m\u001b[1;34mf'Value'\u001b[0m\u001b[1;33m,\u001b[0m \u001b[0mfontsize\u001b[0m\u001b[1;33m=\u001b[0m\u001b[1;36m30\u001b[0m\u001b[1;33m,\u001b[0m \u001b[0mcolor\u001b[0m\u001b[1;33m=\u001b[0m\u001b[1;34m'white'\u001b[0m\u001b[1;33m)\u001b[0m\u001b[1;33m\u001b[0m\u001b[1;33m\u001b[0m\u001b[0m\n\u001b[0;32m      9\u001b[0m \u001b[1;31m# ax[0].set_title(f'Value', fontsize=30, color='white')\u001b[0m\u001b[1;33m\u001b[0m\u001b[1;33m\u001b[0m\u001b[1;33m\u001b[0m\u001b[0m\n",
      "\u001b[1;31mAttributeError\u001b[0m: 'BarContainer' object has no attribute 'set_title'"
     ]
    },
    {
     "data": {
      "image/png": "[encoded data removed]",
      "text/plain": [
       "<Figure size 1800x1080 with 2 Axes>"
      ]
     },
     "metadata": {
      "needs_background": "light"
     },
     "output_type": "display_data"
    }
   ],
   "source": [
    "labels = value_total.index\n",
    "value = value_total\n",
    "fee = fee_total\n",
    "\n",
    "fig, ax =  plt.subplots(2,1,figsize = (25, 15))\n",
    "\n",
    "ax[0].bar(labels, value, label = 'Value Routed', color=['#80D1D9'])\n",
    "ax[0].set_title(f'Value', fontsize=30, color='white')\n",
    "ax[0].tick_params(axis='both', which='both', labelsize=15, labelcolor='white')\n",
    "ax[0].set_xticks([])\n",
    "ax[0].set_ylabel('BTC', fontsize=30, color='white')\n",
    "\n",
    "ax[1].bar(labels, fee, label = 'Fees Collected', color=['#D98880'])\n",
    "ax[1].set_title(f'Fees', fontsize=30, color='white')\n",
    "ax[1].tick_params(axis='x', which='both', labelsize=15, labelcolor='white', labelrotation=45)\n",
    "ax[1].tick_params(axis='both', which='both', labelsize=15, labelcolor='white')\n",
    "ax[1].set_ylabel('sats', fontsize=30, color='white')\n",
    "\n",
    "plt.show()"
   ]
  },
  {
   "cell_type": "code",
   "execution_count": null,
   "metadata": {},
   "outputs": [],
   "source": []
  }
 ],
 "metadata": {
  "kernelspec": {
   "display_name": "Python 3",
   "language": "python",
   "name": "python3"
  },
  "language_info": {
   "codemirror_mode": {
    "name": "ipython",
    "version": 3
   },
   "file_extension": ".py",
   "mimetype": "text/x-python",
   "name": "python",
   "nbconvert_exporter": "python",
   "pygments_lexer": "ipython3",
   "version": "3.7.7"
  },
  "varInspector": {
   "cols": {
    "lenName": 16,
    "lenType": 16,
    "lenVar": 40
   },
   "kernels_config": {
    "python": {
     "delete_cmd_postfix": "",
     "delete_cmd_prefix": "del ",
     "library": "var_list.py",
     "varRefreshCmd": "print(var_dic_list())"
    },
    "r": {
     "delete_cmd_postfix": ") ",
     "delete_cmd_prefix": "rm(",
     "library": "var_list.r",
     "varRefreshCmd": "cat(var_dic_list()) "
    }
   },
   "types_to_exclude": [
    "module",
    "function",
    "builtin_function_or_method",
    "instance",
    "_Feature"
   ],
   "window_display": false
  }
 },
 "nbformat": 4,
 "nbformat_minor": 4
}
