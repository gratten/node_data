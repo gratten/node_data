{
 "cells": [
  {
   "cell_type": "code",
   "execution_count": 646,
   "metadata": {},
   "outputs": [],
   "source": [
    "import sqlite3\n",
    "import pandas as pd\n",
    "from datetime import datetime\n",
    "import matplotlib.pyplot as plt"
   ]
  },
  {
   "cell_type": "code",
   "execution_count": 647,
   "metadata": {},
   "outputs": [],
   "source": [
    "# Create your connection.\n",
    "cnx = sqlite3.connect('db.sqlite3')\n",
    "\n",
    "df = pd.read_sql_query(\"SELECT * FROM gui_forwards\", cnx)\n",
    "\n",
    "df['forward_date'] = pd.to_datetime(df['forward_date'])\n",
    "df = df.set_index('forward_date')"
   ]
  },
  {
   "cell_type": "code",
   "execution_count": 648,
   "metadata": {
    "scrolled": true
   },
   "outputs": [
    {
     "data": {
      "text/html": [
       "<div>\n",
       "<style scoped>\n",
       "    .dataframe tbody tr th:only-of-type {\n",
       "        vertical-align: middle;\n",
       "    }\n",
       "\n",
       "    .dataframe tbody tr th {\n",
       "        vertical-align: top;\n",
       "    }\n",
       "\n",
       "    .dataframe thead th {\n",
       "        text-align: right;\n",
       "    }\n",
       "</style>\n",
       "<table border=\"1\" class=\"dataframe\">\n",
       "  <thead>\n",
       "    <tr style=\"text-align: right;\">\n",
       "      <th></th>\n",
       "      <th>id</th>\n",
       "      <th>chan_id_in</th>\n",
       "      <th>chan_in_alias</th>\n",
       "      <th>chan_out_alias</th>\n",
       "      <th>amt_in_msat</th>\n",
       "      <th>amt_out_msat</th>\n",
       "      <th>fee</th>\n",
       "      <th>chan_id_out</th>\n",
       "    </tr>\n",
       "    <tr>\n",
       "      <th>forward_date</th>\n",
       "      <th></th>\n",
       "      <th></th>\n",
       "      <th></th>\n",
       "      <th></th>\n",
       "      <th></th>\n",
       "      <th></th>\n",
       "      <th></th>\n",
       "      <th></th>\n",
       "    </tr>\n",
       "  </thead>\n",
       "  <tbody>\n",
       "    <tr>\n",
       "      <th>2022-07-07 23:53:21</th>\n",
       "      <td>1</td>\n",
       "      <td>817901411243655168</td>\n",
       "      <td>MUISCA</td>\n",
       "      <td>ZerofeeCLN</td>\n",
       "      <td>72001792</td>\n",
       "      <td>72001720</td>\n",
       "      <td>0.072</td>\n",
       "      <td>817904709708283904</td>\n",
       "    </tr>\n",
       "    <tr>\n",
       "      <th>2022-07-07 23:53:36</th>\n",
       "      <td>2</td>\n",
       "      <td>817901411243655168</td>\n",
       "      <td>MUISCA</td>\n",
       "      <td>ZerofeeCLN</td>\n",
       "      <td>72001792</td>\n",
       "      <td>72001720</td>\n",
       "      <td>0.072</td>\n",
       "      <td>817904709708283904</td>\n",
       "    </tr>\n",
       "    <tr>\n",
       "      <th>2022-07-07 23:53:51</th>\n",
       "      <td>3</td>\n",
       "      <td>817901411243655168</td>\n",
       "      <td>MUISCA</td>\n",
       "      <td>ZerofeeCLN</td>\n",
       "      <td>72001792</td>\n",
       "      <td>72001720</td>\n",
       "      <td>0.072</td>\n",
       "      <td>817904709708283904</td>\n",
       "    </tr>\n",
       "    <tr>\n",
       "      <th>2022-07-07 23:54:05</th>\n",
       "      <td>4</td>\n",
       "      <td>817901411243655168</td>\n",
       "      <td>MUISCA</td>\n",
       "      <td>ZerofeeCLN</td>\n",
       "      <td>72001792</td>\n",
       "      <td>72001720</td>\n",
       "      <td>0.072</td>\n",
       "      <td>817904709708283904</td>\n",
       "    </tr>\n",
       "    <tr>\n",
       "      <th>2022-07-08 16:31:36</th>\n",
       "      <td>5</td>\n",
       "      <td>817425322679402496</td>\n",
       "      <td>LightningNetwork.Plus</td>\n",
       "      <td>WalletOfSatoshi.com</td>\n",
       "      <td>150016500</td>\n",
       "      <td>150001500</td>\n",
       "      <td>15.000</td>\n",
       "      <td>818212573014982656</td>\n",
       "    </tr>\n",
       "  </tbody>\n",
       "</table>\n",
       "</div>"
      ],
      "text/plain": [
       "                     id          chan_id_in          chan_in_alias  \\\n",
       "forward_date                                                         \n",
       "2022-07-07 23:53:21   1  817901411243655168                 MUISCA   \n",
       "2022-07-07 23:53:36   2  817901411243655168                 MUISCA   \n",
       "2022-07-07 23:53:51   3  817901411243655168                 MUISCA   \n",
       "2022-07-07 23:54:05   4  817901411243655168                 MUISCA   \n",
       "2022-07-08 16:31:36   5  817425322679402496  LightningNetwork.Plus   \n",
       "\n",
       "                          chan_out_alias  amt_in_msat  amt_out_msat     fee  \\\n",
       "forward_date                                                                  \n",
       "2022-07-07 23:53:21           ZerofeeCLN     72001792      72001720   0.072   \n",
       "2022-07-07 23:53:36           ZerofeeCLN     72001792      72001720   0.072   \n",
       "2022-07-07 23:53:51           ZerofeeCLN     72001792      72001720   0.072   \n",
       "2022-07-07 23:54:05           ZerofeeCLN     72001792      72001720   0.072   \n",
       "2022-07-08 16:31:36  WalletOfSatoshi.com    150016500     150001500  15.000   \n",
       "\n",
       "                            chan_id_out  \n",
       "forward_date                             \n",
       "2022-07-07 23:53:21  817904709708283904  \n",
       "2022-07-07 23:53:36  817904709708283904  \n",
       "2022-07-07 23:53:51  817904709708283904  \n",
       "2022-07-07 23:54:05  817904709708283904  \n",
       "2022-07-08 16:31:36  818212573014982656  "
      ]
     },
     "execution_count": 648,
     "metadata": {},
     "output_type": "execute_result"
    }
   ],
   "source": [
    "df.head()"
   ]
  },
  {
   "cell_type": "code",
   "execution_count": 649,
   "metadata": {},
   "outputs": [],
   "source": [
    "l1 = list(df['chan_in_alias'].unique())"
   ]
  },
  {
   "cell_type": "code",
   "execution_count": 650,
   "metadata": {},
   "outputs": [],
   "source": [
    "l2 = list(df['chan_out_alias'].unique())"
   ]
  },
  {
   "cell_type": "code",
   "execution_count": 651,
   "metadata": {},
   "outputs": [],
   "source": [
    "channels = list(set(l1 + l2))"
   ]
  },
  {
   "cell_type": "code",
   "execution_count": 652,
   "metadata": {},
   "outputs": [],
   "source": [
    "channels_to_id = {p: i for i, p in enumerate(channels)}"
   ]
  },
  {
   "cell_type": "code",
   "execution_count": 653,
   "metadata": {},
   "outputs": [],
   "source": [
    "# channels_to_id"
   ]
  },
  {
   "cell_type": "code",
   "execution_count": 654,
   "metadata": {},
   "outputs": [],
   "source": [
    "df = df[['chan_in_alias', 'chan_out_alias']]"
   ]
  },
  {
   "cell_type": "code",
   "execution_count": 655,
   "metadata": {},
   "outputs": [],
   "source": [
    "df = df.head(20).reset_index(drop=True)"
   ]
  },
  {
   "cell_type": "code",
   "execution_count": 656,
   "metadata": {},
   "outputs": [
    {
     "data": {
      "text/html": [
       "<div>\n",
       "<style scoped>\n",
       "    .dataframe tbody tr th:only-of-type {\n",
       "        vertical-align: middle;\n",
       "    }\n",
       "\n",
       "    .dataframe tbody tr th {\n",
       "        vertical-align: top;\n",
       "    }\n",
       "\n",
       "    .dataframe thead th {\n",
       "        text-align: right;\n",
       "    }\n",
       "</style>\n",
       "<table border=\"1\" class=\"dataframe\">\n",
       "  <thead>\n",
       "    <tr style=\"text-align: right;\">\n",
       "      <th></th>\n",
       "      <th>chan_in_alias</th>\n",
       "      <th>chan_out_alias</th>\n",
       "    </tr>\n",
       "  </thead>\n",
       "  <tbody>\n",
       "    <tr>\n",
       "      <th>0</th>\n",
       "      <td>MUISCA</td>\n",
       "      <td>ZerofeeCLN</td>\n",
       "    </tr>\n",
       "    <tr>\n",
       "      <th>1</th>\n",
       "      <td>MUISCA</td>\n",
       "      <td>ZerofeeCLN</td>\n",
       "    </tr>\n",
       "    <tr>\n",
       "      <th>2</th>\n",
       "      <td>MUISCA</td>\n",
       "      <td>ZerofeeCLN</td>\n",
       "    </tr>\n",
       "    <tr>\n",
       "      <th>3</th>\n",
       "      <td>MUISCA</td>\n",
       "      <td>ZerofeeCLN</td>\n",
       "    </tr>\n",
       "    <tr>\n",
       "      <th>4</th>\n",
       "      <td>LightningNetwork.Plus</td>\n",
       "      <td>WalletOfSatoshi.com</td>\n",
       "    </tr>\n",
       "  </tbody>\n",
       "</table>\n",
       "</div>"
      ],
      "text/plain": [
       "           chan_in_alias       chan_out_alias\n",
       "0                 MUISCA           ZerofeeCLN\n",
       "1                 MUISCA           ZerofeeCLN\n",
       "2                 MUISCA           ZerofeeCLN\n",
       "3                 MUISCA           ZerofeeCLN\n",
       "4  LightningNetwork.Plus  WalletOfSatoshi.com"
      ]
     },
     "execution_count": 656,
     "metadata": {},
     "output_type": "execute_result"
    }
   ],
   "source": [
    "df.head()"
   ]
  },
  {
   "cell_type": "code",
   "execution_count": 657,
   "metadata": {},
   "outputs": [],
   "source": [
    "rows, cols, vals = [], [], []"
   ]
  },
  {
   "cell_type": "code",
   "execution_count": 658,
   "metadata": {},
   "outputs": [
    {
     "data": {
      "text/plain": [
       "chan_in_alias         MUISCA\n",
       "chan_out_alias    ZerofeeCLN\n",
       "Name: 0, dtype: object"
      ]
     },
     "execution_count": 658,
     "metadata": {},
     "output_type": "execute_result"
    }
   ],
   "source": [
    "df.iloc[0]"
   ]
  },
  {
   "cell_type": "code",
   "execution_count": 659,
   "metadata": {},
   "outputs": [
    {
     "data": {
      "text/plain": [
       "9"
      ]
     },
     "execution_count": 659,
     "metadata": {},
     "output_type": "execute_result"
    }
   ],
   "source": [
    "channels_to_id['MUISCA']"
   ]
  },
  {
   "cell_type": "code",
   "execution_count": 664,
   "metadata": {},
   "outputs": [],
   "source": [
    "for x in df.index:\n",
    "#     print(x)\n",
    "#     print(f'row: {df.iloc[x][0]}')\n",
    "    rows.append(channels_to_id[df.iloc[x][0]])\n",
    "#     print(f'col: {df.iloc[x][1]}')\n",
    "#     print()\n",
    "    cols.append(channels_to_id[df.iloc[x][1]])\n",
    "    vals.append(1)"
   ]
  },
  {
   "cell_type": "code",
   "execution_count": null,
   "metadata": {},
   "outputs": [],
   "source": []
  }
 ],
 "metadata": {
  "kernelspec": {
   "display_name": "Python 3",
   "language": "python",
   "name": "python3"
  },
  "language_info": {
   "codemirror_mode": {
    "name": "ipython",
    "version": 3
   },
   "file_extension": ".py",
   "mimetype": "text/x-python",
   "name": "python",
   "nbconvert_exporter": "python",
   "pygments_lexer": "ipython3",
   "version": "3.7.7"
  },
  "varInspector": {
   "cols": {
    "lenName": 16,
    "lenType": 16,
    "lenVar": 40
   },
   "kernels_config": {
    "python": {
     "delete_cmd_postfix": "",
     "delete_cmd_prefix": "del ",
     "library": "var_list.py",
     "varRefreshCmd": "print(var_dic_list())"
    },
    "r": {
     "delete_cmd_postfix": ") ",
     "delete_cmd_prefix": "rm(",
     "library": "var_list.r",
     "varRefreshCmd": "cat(var_dic_list()) "
    }
   },
   "types_to_exclude": [
    "module",
    "function",
    "builtin_function_or_method",
    "instance",
    "_Feature"
   ],
   "window_display": false
  }
 },
 "nbformat": 4,
 "nbformat_minor": 4
}
