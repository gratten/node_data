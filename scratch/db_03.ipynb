{
 "cells": [
  {
   "cell_type": "code",
   "execution_count": 46,
   "metadata": {},
   "outputs": [],
   "source": [
    "import sqlite3\n",
    "import pandas as pd\n",
    "from datetime import datetime\n",
    "import matplotlib.pyplot as plt"
   ]
  },
  {
   "cell_type": "code",
   "execution_count": 65,
   "metadata": {},
   "outputs": [],
   "source": [
    "# Create your connection.\n",
    "cnx = sqlite3.connect('db.sqlite3')\n",
    "\n",
    "df = pd.read_sql_query(\"SELECT * FROM gui_forwards\", cnx)"
   ]
  },
  {
   "cell_type": "code",
   "execution_count": 66,
   "metadata": {},
   "outputs": [
    {
     "data": {
      "text/html": [
       "<div>\n",
       "<style scoped>\n",
       "    .dataframe tbody tr th:only-of-type {\n",
       "        vertical-align: middle;\n",
       "    }\n",
       "\n",
       "    .dataframe tbody tr th {\n",
       "        vertical-align: top;\n",
       "    }\n",
       "\n",
       "    .dataframe thead th {\n",
       "        text-align: right;\n",
       "    }\n",
       "</style>\n",
       "<table border=\"1\" class=\"dataframe\">\n",
       "  <thead>\n",
       "    <tr style=\"text-align: right;\">\n",
       "      <th></th>\n",
       "      <th>id</th>\n",
       "      <th>forward_date</th>\n",
       "      <th>chan_id_in</th>\n",
       "      <th>chan_in_alias</th>\n",
       "      <th>chan_out_alias</th>\n",
       "      <th>amt_in_msat</th>\n",
       "      <th>amt_out_msat</th>\n",
       "      <th>fee</th>\n",
       "      <th>chan_id_out</th>\n",
       "    </tr>\n",
       "  </thead>\n",
       "  <tbody>\n",
       "    <tr>\n",
       "      <th>0</th>\n",
       "      <td>1</td>\n",
       "      <td>2022-07-07 23:53:21</td>\n",
       "      <td>817901411243655168</td>\n",
       "      <td>MUISCA</td>\n",
       "      <td>ZerofeeCLN</td>\n",
       "      <td>72001792</td>\n",
       "      <td>72001720</td>\n",
       "      <td>0.072</td>\n",
       "      <td>817904709708283904</td>\n",
       "    </tr>\n",
       "    <tr>\n",
       "      <th>1</th>\n",
       "      <td>2</td>\n",
       "      <td>2022-07-07 23:53:36</td>\n",
       "      <td>817901411243655168</td>\n",
       "      <td>MUISCA</td>\n",
       "      <td>ZerofeeCLN</td>\n",
       "      <td>72001792</td>\n",
       "      <td>72001720</td>\n",
       "      <td>0.072</td>\n",
       "      <td>817904709708283904</td>\n",
       "    </tr>\n",
       "    <tr>\n",
       "      <th>2</th>\n",
       "      <td>3</td>\n",
       "      <td>2022-07-07 23:53:51</td>\n",
       "      <td>817901411243655168</td>\n",
       "      <td>MUISCA</td>\n",
       "      <td>ZerofeeCLN</td>\n",
       "      <td>72001792</td>\n",
       "      <td>72001720</td>\n",
       "      <td>0.072</td>\n",
       "      <td>817904709708283904</td>\n",
       "    </tr>\n",
       "    <tr>\n",
       "      <th>3</th>\n",
       "      <td>4</td>\n",
       "      <td>2022-07-07 23:54:05</td>\n",
       "      <td>817901411243655168</td>\n",
       "      <td>MUISCA</td>\n",
       "      <td>ZerofeeCLN</td>\n",
       "      <td>72001792</td>\n",
       "      <td>72001720</td>\n",
       "      <td>0.072</td>\n",
       "      <td>817904709708283904</td>\n",
       "    </tr>\n",
       "    <tr>\n",
       "      <th>4</th>\n",
       "      <td>5</td>\n",
       "      <td>2022-07-08 16:31:36</td>\n",
       "      <td>817425322679402496</td>\n",
       "      <td>LightningNetwork.Plus</td>\n",
       "      <td>WalletOfSatoshi.com</td>\n",
       "      <td>150016500</td>\n",
       "      <td>150001500</td>\n",
       "      <td>15.000</td>\n",
       "      <td>818212573014982656</td>\n",
       "    </tr>\n",
       "  </tbody>\n",
       "</table>\n",
       "</div>"
      ],
      "text/plain": [
       "   id         forward_date          chan_id_in          chan_in_alias  \\\n",
       "0   1  2022-07-07 23:53:21  817901411243655168                 MUISCA   \n",
       "1   2  2022-07-07 23:53:36  817901411243655168                 MUISCA   \n",
       "2   3  2022-07-07 23:53:51  817901411243655168                 MUISCA   \n",
       "3   4  2022-07-07 23:54:05  817901411243655168                 MUISCA   \n",
       "4   5  2022-07-08 16:31:36  817425322679402496  LightningNetwork.Plus   \n",
       "\n",
       "        chan_out_alias  amt_in_msat  amt_out_msat     fee         chan_id_out  \n",
       "0           ZerofeeCLN     72001792      72001720   0.072  817904709708283904  \n",
       "1           ZerofeeCLN     72001792      72001720   0.072  817904709708283904  \n",
       "2           ZerofeeCLN     72001792      72001720   0.072  817904709708283904  \n",
       "3           ZerofeeCLN     72001792      72001720   0.072  817904709708283904  \n",
       "4  WalletOfSatoshi.com    150016500     150001500  15.000  818212573014982656  "
      ]
     },
     "execution_count": 66,
     "metadata": {},
     "output_type": "execute_result"
    }
   ],
   "source": [
    "df.head()"
   ]
  },
  {
   "cell_type": "code",
   "execution_count": 67,
   "metadata": {},
   "outputs": [],
   "source": [
    "df['forward_date'] = pd.to_datetime(df['forward_date'])"
   ]
  },
  {
   "cell_type": "code",
   "execution_count": 68,
   "metadata": {},
   "outputs": [],
   "source": [
    "df = df.set_index('forward_date')"
   ]
  },
  {
   "cell_type": "code",
   "execution_count": 69,
   "metadata": {},
   "outputs": [],
   "source": [
    "df['count'] = 1"
   ]
  },
  {
   "cell_type": "code",
   "execution_count": 72,
   "metadata": {},
   "outputs": [],
   "source": [
    "seven = df.loc['2022-10-31':'2022-11-06']"
   ]
  },
  {
   "cell_type": "code",
   "execution_count": 73,
   "metadata": {},
   "outputs": [
    {
     "data": {
      "text/plain": [
       "12"
      ]
     },
     "execution_count": 73,
     "metadata": {},
     "output_type": "execute_result"
    }
   ],
   "source": [
    "len(seven)"
   ]
  },
  {
   "cell_type": "code",
   "execution_count": 74,
   "metadata": {},
   "outputs": [
    {
     "data": {
      "text/html": [
       "<div>\n",
       "<style scoped>\n",
       "    .dataframe tbody tr th:only-of-type {\n",
       "        vertical-align: middle;\n",
       "    }\n",
       "\n",
       "    .dataframe tbody tr th {\n",
       "        vertical-align: top;\n",
       "    }\n",
       "\n",
       "    .dataframe thead th {\n",
       "        text-align: right;\n",
       "    }\n",
       "</style>\n",
       "<table border=\"1\" class=\"dataframe\">\n",
       "  <thead>\n",
       "    <tr style=\"text-align: right;\">\n",
       "      <th></th>\n",
       "      <th>id</th>\n",
       "      <th>chan_id_in</th>\n",
       "      <th>chan_in_alias</th>\n",
       "      <th>chan_out_alias</th>\n",
       "      <th>amt_in_msat</th>\n",
       "      <th>amt_out_msat</th>\n",
       "      <th>fee</th>\n",
       "      <th>chan_id_out</th>\n",
       "      <th>count</th>\n",
       "    </tr>\n",
       "    <tr>\n",
       "      <th>forward_date</th>\n",
       "      <th></th>\n",
       "      <th></th>\n",
       "      <th></th>\n",
       "      <th></th>\n",
       "      <th></th>\n",
       "      <th></th>\n",
       "      <th></th>\n",
       "      <th></th>\n",
       "      <th></th>\n",
       "    </tr>\n",
       "  </thead>\n",
       "  <tbody>\n",
       "    <tr>\n",
       "      <th>2022-10-31 00:41:27</th>\n",
       "      <td>937</td>\n",
       "      <td>817904709708283904</td>\n",
       "      <td>ZerofeeCLN</td>\n",
       "      <td>0337cb9d68ee1a07e2c2</td>\n",
       "      <td>150003000</td>\n",
       "      <td>150000000</td>\n",
       "      <td>3.000</td>\n",
       "      <td>818387395288694784</td>\n",
       "      <td>1</td>\n",
       "    </tr>\n",
       "    <tr>\n",
       "      <th>2022-10-31 11:35:01</th>\n",
       "      <td>938</td>\n",
       "      <td>817904709708283904</td>\n",
       "      <td>ZerofeeCLN</td>\n",
       "      <td>nodlino</td>\n",
       "      <td>42011345</td>\n",
       "      <td>42010505</td>\n",
       "      <td>0.840</td>\n",
       "      <td>818386295788601345</td>\n",
       "      <td>1</td>\n",
       "    </tr>\n",
       "    <tr>\n",
       "      <th>2022-10-31 11:35:33</th>\n",
       "      <td>939</td>\n",
       "      <td>817904709708283904</td>\n",
       "      <td>ZerofeeCLN</td>\n",
       "      <td>nodlino</td>\n",
       "      <td>42011345</td>\n",
       "      <td>42010505</td>\n",
       "      <td>0.840</td>\n",
       "      <td>818386295788601345</td>\n",
       "      <td>1</td>\n",
       "    </tr>\n",
       "    <tr>\n",
       "      <th>2022-10-31 14:42:28</th>\n",
       "      <td>940</td>\n",
       "      <td>817437417321398273</td>\n",
       "      <td>i'llTryAnythingOnce</td>\n",
       "      <td>Redwing Cherokee</td>\n",
       "      <td>271251834</td>\n",
       "      <td>271224712</td>\n",
       "      <td>27.122</td>\n",
       "      <td>818222468651679745</td>\n",
       "      <td>1</td>\n",
       "    </tr>\n",
       "    <tr>\n",
       "      <th>2022-10-31 14:59:29</th>\n",
       "      <td>941</td>\n",
       "      <td>818387395288694784</td>\n",
       "      <td>0337cb9d68ee1a07e2c2</td>\n",
       "      <td>ACINQ</td>\n",
       "      <td>451630278</td>\n",
       "      <td>451621246</td>\n",
       "      <td>9.032</td>\n",
       "      <td>818721646862860289</td>\n",
       "      <td>1</td>\n",
       "    </tr>\n",
       "  </tbody>\n",
       "</table>\n",
       "</div>"
      ],
      "text/plain": [
       "                      id          chan_id_in         chan_in_alias  \\\n",
       "forward_date                                                         \n",
       "2022-10-31 00:41:27  937  817904709708283904            ZerofeeCLN   \n",
       "2022-10-31 11:35:01  938  817904709708283904            ZerofeeCLN   \n",
       "2022-10-31 11:35:33  939  817904709708283904            ZerofeeCLN   \n",
       "2022-10-31 14:42:28  940  817437417321398273   i'llTryAnythingOnce   \n",
       "2022-10-31 14:59:29  941  818387395288694784  0337cb9d68ee1a07e2c2   \n",
       "\n",
       "                           chan_out_alias  amt_in_msat  amt_out_msat     fee  \\\n",
       "forward_date                                                                   \n",
       "2022-10-31 00:41:27  0337cb9d68ee1a07e2c2    150003000     150000000   3.000   \n",
       "2022-10-31 11:35:01               nodlino     42011345      42010505   0.840   \n",
       "2022-10-31 11:35:33               nodlino     42011345      42010505   0.840   \n",
       "2022-10-31 14:42:28      Redwing Cherokee    271251834     271224712  27.122   \n",
       "2022-10-31 14:59:29                 ACINQ    451630278     451621246   9.032   \n",
       "\n",
       "                            chan_id_out  count  \n",
       "forward_date                                    \n",
       "2022-10-31 00:41:27  818387395288694784      1  \n",
       "2022-10-31 11:35:01  818386295788601345      1  \n",
       "2022-10-31 11:35:33  818386295788601345      1  \n",
       "2022-10-31 14:42:28  818222468651679745      1  \n",
       "2022-10-31 14:59:29  818721646862860289      1  "
      ]
     },
     "execution_count": 74,
     "metadata": {},
     "output_type": "execute_result"
    }
   ],
   "source": [
    "seven.head()"
   ]
  },
  {
   "cell_type": "code",
   "execution_count": 82,
   "metadata": {},
   "outputs": [],
   "source": [
    "value = seven['amt_out_msat'].sum()/1000"
   ]
  },
  {
   "cell_type": "code",
   "execution_count": 83,
   "metadata": {},
   "outputs": [
    {
     "name": "stdout",
     "output_type": "stream",
     "text": [
      "2,403,996.041\n"
     ]
    }
   ],
   "source": [
    "print(f'{value:,}')"
   ]
  },
  {
   "cell_type": "code",
   "execution_count": null,
   "metadata": {},
   "outputs": [],
   "source": []
  }
 ],
 "metadata": {
  "kernelspec": {
   "display_name": "Python 3",
   "language": "python",
   "name": "python3"
  },
  "language_info": {
   "codemirror_mode": {
    "name": "ipython",
    "version": 3
   },
   "file_extension": ".py",
   "mimetype": "text/x-python",
   "name": "python",
   "nbconvert_exporter": "python",
   "pygments_lexer": "ipython3",
   "version": "3.7.7"
  },
  "varInspector": {
   "cols": {
    "lenName": 16,
    "lenType": 16,
    "lenVar": 40
   },
   "kernels_config": {
    "python": {
     "delete_cmd_postfix": "",
     "delete_cmd_prefix": "del ",
     "library": "var_list.py",
     "varRefreshCmd": "print(var_dic_list())"
    },
    "r": {
     "delete_cmd_postfix": ") ",
     "delete_cmd_prefix": "rm(",
     "library": "var_list.r",
     "varRefreshCmd": "cat(var_dic_list()) "
    }
   },
   "types_to_exclude": [
    "module",
    "function",
    "builtin_function_or_method",
    "instance",
    "_Feature"
   ],
   "window_display": false
  }
 },
 "nbformat": 4,
 "nbformat_minor": 4
}
